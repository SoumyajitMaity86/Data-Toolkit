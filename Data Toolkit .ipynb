{
 "cells": [
  {
   "cell_type": "markdown",
   "id": "ec75399d-5e1c-40ab-8383-23b8c5c0d043",
   "metadata": {},
   "source": [
    "#1.Demonstrate three different methods for creating identical 2D arrays in NumPy. Provide the code for each method and the final output after each method."
   ]
  },
  {
   "cell_type": "raw",
   "id": "49233af7-9d00-4cc4-8a34-6f378f13e23c",
   "metadata": {},
   "source": [
    "Method 1: Using np.array"
   ]
  },
  {
   "cell_type": "code",
   "execution_count": null,
   "id": "15dbcef6-2c29-469d-8d61-ac46726bde99",
   "metadata": {},
   "outputs": [],
   "source": [
    "import numpy as np\n",
    "\n",
    "# Define the 2D array directly\n",
    "array1 = np.array([[1, 2, 3], [4, 5, 6]])\n",
    "print(\"Method 1 Output:\")\n",
    "print(array1)"
   ]
  },
  {
   "cell_type": "markdown",
   "id": "c4de759b-d637-4edc-a441-9395c86b3ef4",
   "metadata": {},
   "source": [
    "Method 2: Using np.full"
   ]
  },
  {
   "cell_type": "code",
   "execution_count": null,
   "id": "b5c4ec25-bbe4-49a0-a779-4f0d5ab073bf",
   "metadata": {},
   "outputs": [],
   "source": [
    "array2 = np.full((2, 3), fill_value=[1, 2, 3])\n",
    "print(\"\\nMethod 2 Output:\")\n",
    "print(array2)\n"
   ]
  },
  {
   "cell_type": "markdown",
   "id": "74e200b8-79d5-462f-bc82-c405aa273920",
   "metadata": {},
   "source": [
    "Method 3: Using np.tile"
   ]
  },
  {
   "cell_type": "code",
   "execution_count": null,
   "id": "b95ecdb2-2c0d-4d47-8efc-92b0e5fa6729",
   "metadata": {},
   "outputs": [],
   "source": [
    "base_array = [1, 2, 3]\n",
    "array3 = np.tile(base_array, (2, 1))\n",
    "print(\"\\nMethod 3 Output:\")\n",
    "print(array3)\n"
   ]
  },
  {
   "cell_type": "markdown",
   "id": "f415137e-d354-48fb-81c8-7f3f563c37c4",
   "metadata": {},
   "source": [
    "2.Using the Numpy function, generate an array of 100 evenly spaced numbers between 1 and 10 and Reshape that 1D array into a 2D array."
   ]
  },
  {
   "cell_type": "code",
   "execution_count": null,
   "id": "ffef528e-d5e8-4b0e-9f98-69c69b751e16",
   "metadata": {},
   "outputs": [],
   "source": [
    "import numpy as np\n",
    "\n",
    "array_1d = np.linspace(1, 10, 100)\n",
    "\n",
    "array_2d = array_1d.reshape(10, 10)\n",
    "\n",
    "print(\"1D Array:\")\n",
    "print(array_1d)\n",
    "\n",
    "print(\"\\n2D Array:\")\n",
    "print(array_2d)\n"
   ]
  },
  {
   "cell_type": "markdown",
   "id": "8508703c-346e-4ecb-8f64-f9c7dee00351",
   "metadata": {},
   "source": [
    "4.Generate a 3x3 array with random floating-point numbers between 5 and 20. Then, round each number in the array to 2 decimal places."
   ]
  },
  {
   "cell_type": "code",
   "execution_count": null,
   "id": "5b6d840c-0b38-4322-9bc2-40ef4f05358a",
   "metadata": {},
   "outputs": [],
   "source": [
    "import numpy as np\n",
    "\n",
    "# Step 1: Generate a 3x3 array with random floating-point numbers between 5 and 20\n",
    "random_array = np.random.uniform(5, 20, (3, 3))\n",
    "\n",
    "# Step 2: Round each number in the array to 2 decimal places\n",
    "rounded_array = np.round(random_array, 2)\n",
    "\n",
    "print(\"Original Array:\")\n",
    "print(random_array)\n",
    "\n",
    "print(\"\\nRounded Array:\")\n",
    "print(rounded_array)\n"
   ]
  },
  {
   "cell_type": "markdown",
   "id": "37d01193-cf7b-488f-9143-5da3994dcf19",
   "metadata": {},
   "source": [
    "5.Create a NumPy array with random integers between 1 and 10 of shape (5, 6). After creating the array perform the following operations: \n",
    "\r\n",
    " a)Extract all even integers from array.\r\n",
    "\r\n",
    " b)Extract all odd integers from array"
   ]
  },
  {
   "cell_type": "code",
   "execution_count": null,
   "id": "874c5eaf-eb0d-4057-a345-08c37c630280",
   "metadata": {},
   "outputs": [],
   "source": [
    "import numpy as np\n",
    "\n",
    "# Step 1: Create a 5x6 NumPy array with random integers between 1 and 10\n",
    "random_array = np.random.randint(1, 11, (5, 6))\n",
    "print(\"Original Array:\")\n",
    "print(random_array)\n",
    "\n",
    "# Step 2a: Extract all even integers\n",
    "even_integers = random_array[random_array % 2 == 0]\n",
    "print(\"\\nEven Integers:\")\n",
    "print(even_integers)\n",
    "\n",
    "# Step 2b: Extract all odd integers\n",
    "odd_integers = random_array[random_array % 2 != 0]\n",
    "print(\"\\nOdd Integers:\")\n",
    "print(odd_integers)\n"
   ]
  },
  {
   "cell_type": "markdown",
   "id": "4d8b40b7-108a-40a8-9979-9689f17c3e05",
   "metadata": {},
   "source": [
    "6.Create a 3D NumPy array of shape (3, 3, 3) containing random integers between 1 and 10. Perform the following operations: \n",
    "\n",
    " a) Find the indices of the maximum values along each depth level (third axis).\n",
    "\n",
    " b) Perform element-wise multiplication of between both array"
   ]
  },
  {
   "cell_type": "code",
   "execution_count": null,
   "id": "bb6b9a5d-4f66-4400-8086-fdf09a4521b4",
   "metadata": {},
   "outputs": [],
   "source": [
    "import numpy as np\n",
    "\n",
    "array_3d = np.random.randint(1, 11, (3, 3, 3))\n",
    "print(\"Original 3D Array:\")\n",
    "print(array_3d)\n",
    "\n",
    "max_indices = np.argmax(array_3d, axis=2)\n",
    "print(\"\\nIndices of Maximum Values along Depth (Axis=2):\")\n",
    "print(max_indices)\n",
    "\n",
    "\n",
    "elementwise_multiplication = array_3d * array_3d\n",
    "print(\"\\nElement-wise Multiplication of Array with Itself:\")\n",
    "print(elementwise_multiplication)\n"
   ]
  },
  {
   "cell_type": "markdown",
   "id": "eb4dfe66-1f62-4fc7-b900-8e0ae259ca76",
   "metadata": {},
   "source": [
    "7.Clean and transform the 'Phone' column in the sample dataset to remove non-numeric characters and \n",
    "convert it to a numeric data type. Also display the table attributes and data types of each column."
   ]
  },
  {
   "cell_type": "code",
   "execution_count": null,
   "id": "e6c4d6d5-cad5-422d-a760-f4d5f3db2021",
   "metadata": {},
   "outputs": [],
   "source": [
    "import pandas as pd\n",
    "\n",
    "file_path = \"People Data (1).csv\"\n",
    "data = pd.read_csv(file_path)\n",
    "\n",
    "\n",
    "print(\"Original Dataset:\")\n",
    "print(data.head())\n",
    "\n",
    "data['Phone'] = data['Phone'].astype(str).str.replace(r'\\D', '', regex=True)  \n",
    "data['Phone'] = pd.to_numeric(data['Phone'], errors='coerce')  \n",
    "\n",
    "\n",
    "print(\"\\nTransformed Dataset:\")\n",
    "print(data.head())\n",
    "\n",
    "print(\"\\nTable Attributes and Data Types:\")\n",
    "print(data.info())\n"
   ]
  },
  {
   "cell_type": "markdown",
   "id": "604d6c6e-47da-4637-bcfd-62f04ab0b7f9",
   "metadata": {},
   "source": [
    "8.Perform the following tasks using people dataset:\n",
    "\n",
    " a) Read the 'data.csv' file using pandas, skipping the first 50 rows.\n",
    "\n",
    " b) Only read the columns: 'Last Name', ‘Gender’,’Email’,‘Phone’ and ‘Salary’ from the file.\n",
    "\n",
    " c) Display the first 10 rows of the filtered dataset.\n",
    "\n",
    " d) Extract the ‘Salary’' column as a Series and display its last 5 values."
   ]
  },
  {
   "cell_type": "code",
   "execution_count": null,
   "id": "77cd8430-d475-4a3d-8062-9ece341e05f5",
   "metadata": {},
   "outputs": [],
   "source": [
    "import pandas as pd\n",
    "\n",
    "\n",
    "file_path = \"People Data (1).csv\"\n",
    "\n",
    "\n",
    "data = pd.read_csv(file_path)\n",
    "data.columns = data.columns.str.strip()  \n",
    "\n",
    "\n",
    "columns_to_read = ['Last Name', 'Gender', 'Email', 'Phone', 'Salary']\n",
    "data = data[columns_to_read]\n",
    "\n",
    "\n",
    "print(\"Filtered Data (First 10 Rows):\")\n",
    "print(data.head(10))\n",
    "\n",
    "\n",
    "salary_series = data['Salary']\n",
    "\n",
    "print(\"\\nLast 5 Values of the 'Salary' Column:\")\n",
    "print(salary_series.tail())"
   ]
  },
  {
   "cell_type": "markdown",
   "id": "85949896-0efe-4751-9efc-2e1e3688d81e",
   "metadata": {},
   "source": [
    "9.Filter and select rows from the People_Dataset, where the “Last Name' column contains the name 'Duke',\n",
    "'Gender' column contains the word Female and ‘Salary’ should be less than 85000"
   ]
  },
  {
   "cell_type": "code",
   "execution_count": null,
   "id": "80ba4b65-0726-4866-883e-0376ca3d30da",
   "metadata": {},
   "outputs": [],
   "source": [
    "import pandas as pd\n",
    "\n",
    "# Load the dataset\n",
    "file_path = \"People Data (1).csv\"\n",
    "data = pd.read_csv(file_path)\n",
    "\n",
    "# Clean up column names\n",
    "data.columns = data.columns.str.strip()\n",
    "\n",
    "# Filter the data based on the given conditions\n",
    "filtered_data = data[(data['Last Name'].str.contains('Duke', case=False)) & \n",
    "                     (data['Gender'].str.contains('Female', case=False)) & \n",
    "                     (data['Salary'] < 85000)]\n",
    "\n",
    "# Display the filtered data\n",
    "print(filtered_data)\n"
   ]
  },
  {
   "cell_type": "markdown",
   "id": "f31a6218-59d8-41c0-b4a3-fdcedb3bb1c9",
   "metadata": {},
   "source": [
    "10. Create a 7*5 Dataframe in Pandas using a series generated from 35 random integers between 1 to 6?"
   ]
  },
  {
   "cell_type": "code",
   "execution_count": null,
   "id": "ad0b5f98-5f74-4211-b10e-2e453850d1d0",
   "metadata": {},
   "outputs": [],
   "source": [
    "import pandas as pd\n",
    "import numpy as np\n",
    "\n",
    "random_data = np.random.randint(1, 7, size=35)\n",
    "\n",
    "df = pd.DataFrame(random_data.reshape(7, 5))\n",
    "\n",
    "print(df)\n"
   ]
  },
  {
   "cell_type": "markdown",
   "id": "3f832826-9887-4027-8ea7-61ce46468cea",
   "metadata": {},
   "source": [
    "11.Create two different Series, each of length 50, with the following criteria:\n",
    "\n",
    "a) The first Series should contain random numbers ranging from 10 to 50.\n",
    "\n",
    "b) The second Series should contain random numbers ranging from 100 to 1000.\n",
    "\n",
    "c) Create a DataFrame by joining these Series by column, and, change the names of the columns to 'col1', 'col2',\n",
    "etc."
   ]
  },
  {
   "cell_type": "code",
   "execution_count": null,
   "id": "8273bb8a-ea0b-45b5-b52d-f5f26c9d0cff",
   "metadata": {},
   "outputs": [],
   "source": [
    "import pandas as pd\n",
    "import numpy as np\n",
    "\n",
    "\n",
    "series1 = np.random.randint(10, 51, size=50)\n",
    "\n",
    "series2 = np.random.randint(100, 1001, size=50)\n",
    "\n",
    "df = pd.DataFrame({'col1': series1, 'col2': series2})\n",
    "\n",
    "print(df)\n"
   ]
  },
  {
   "cell_type": "markdown",
   "id": "17f73644-76d2-4fbc-aab7-c6508448490d",
   "metadata": {},
   "source": [
    "12.Perform the following operations using people data set:\n",
    "\n",
    "a) Delete the 'Email', 'Phone', and 'Date of birth' columns from the dataset.\n",
    "\n",
    "b) Delete the rows containing any missing values.\n",
    "\n",
    "d) Print the final output also."
   ]
  },
  {
   "cell_type": "code",
   "execution_count": null,
   "id": "f50292ff-f3fc-4719-a568-73f2466eb811",
   "metadata": {},
   "outputs": [],
   "source": [
    "import pandas as pd\n",
    "\n",
    "# Load the dataset\n",
    "file_path = \"People Data (1).csv\"\n",
    "data = pd.read_csv(file_path)\n",
    "\n",
    "# Clean up column names\n",
    "data.columns = data.columns.str.strip()\n",
    "\n",
    "# a) Delete the 'Email', 'Phone', and 'Date of birth' columns\n",
    "data = data.drop(columns=['Email', 'Phone', 'Date of birth'])\n",
    "\n",
    "# b) Delete the rows containing any missing values\n",
    "data = data.dropna()\n",
    "\n",
    "# d) Print the final output\n",
    "print(\"Final Data after Deleting Columns and Missing Values:\")\n",
    "print(data)\n"
   ]
  },
  {
   "cell_type": "markdown",
   "id": "32df1d50-ec79-4ae9-ae48-5abf6dd94101",
   "metadata": {},
   "source": [
    "13. Create two NumPy arrays, x and y, each containing 100 random float values between 0 and 1. Perform the\n",
    "following tasks using Matplotlib and NumPy:\n",
    "\n",
    "a) Create a scatter plot using x and y, setting the color of the points to red and the marker style to 'o'.\n",
    "\n",
    "b) Add a horizontal line at y = 0.5 using a dashed line style and label it as 'y = 0.5'.\n",
    "\n",
    "c) Add a vertical line at x = 0.5 using a dotted line style and label it as 'x = 0.5'.\n",
    "\n",
    "d) Label the x-axis as 'X-axis' and the y-axis as 'Y-axis'.\n",
    "\n",
    "e) Set the title of the plot as 'Advanced Scatter Plot of Random Values'.\n",
    "\n",
    "f) Display a legend for the scatter plot, the horizontal line, and the vertical line."
   ]
  },
  {
   "cell_type": "code",
   "execution_count": null,
   "id": "f98bdae5-fc5d-4326-925d-0a165740be62",
   "metadata": {},
   "outputs": [],
   "source": [
    "import numpy as np\n",
    "import matplotlib.pyplot as plt\n",
    "\n",
    "\n",
    "x = np.random.rand(100)\n",
    "y = np.random.rand(100)\n",
    "\n",
    "plt.scatter(x, y, color='red', marker='o', label='Random Points')\n",
    "\n",
    "plt.axhline(y=0.5, color='blue', linestyle='--', label='y = 0.5')\n",
    "\n",
    "\n",
    "plt.axvline(x=0.5, color='green', linestyle=':', label='x = 0.5')\n",
    "\n",
    "\n",
    "plt.xlabel('X-axis')\n",
    "plt.ylabel('Y-axis')\n",
    "\n",
    "\n",
    "plt.title('Advanced Scatter Plot of Random Values')\n",
    "\n",
    "\n",
    "plt.legend()\n",
    "\n",
    "\n",
    "plt.show()\n"
   ]
  },
  {
   "cell_type": "markdown",
   "id": "bd81dc77-3f44-4983-822f-4901e9f3e0a7",
   "metadata": {},
   "source": [
    "14.Create a time-series dataset in a Pandas DataFrame with columns: 'Date', 'Temperature', 'Humidity' and\r\n",
    "Perform the following tasks using Matplotlib\n",
    "\n",
    "\n",
    "a) Plot the 'Temperature' and 'Humidity' on the same plot with different y-axes (left y-axis for 'Temperature' and\r\n",
    "right y-axis for 'Humidity').\r\n",
    "\r\n",
    "b) Label the x-axis as 'Date'.\r\n",
    "\r\n",
    "c) Set the title of the plot as 'Temperature and Humidity Over Time'."
   ]
  },
  {
   "cell_type": "code",
   "execution_count": null,
   "id": "e6ffde46-bd23-42a1-8bda-5e0d0b804ad0",
   "metadata": {},
   "outputs": [],
   "source": [
    "import pandas as pd\n",
    "import numpy as np\n",
    "import matplotlib.pyplot as plt\n",
    "\n",
    "# Create a time-series dataset\n",
    "date_range = pd.date_range(start='2023-01-01', periods=30, freq='D')  # 30 days of data\n",
    "temperature = np.random.uniform(10, 35, size=30)  # Random temperatures between 10 and 35°C\n",
    "humidity = np.random.uniform(30, 80, size=30)    # Random humidity between 30% and 80%\n",
    "\n",
    "# Create the DataFrame\n",
    "data = pd.DataFrame({\n",
    "    'Date': date_range,\n",
    "    'Temperature': temperature,\n",
    "    'Humidity': humidity\n",
    "})\n",
    "\n",
    "# Set 'Date' as the index\n",
    "data.set_index('Date', inplace=True)\n",
    "\n",
    "# a) Plot 'Temperature' and 'Humidity' on the same plot with different y-axes\n",
    "fig, ax1 = plt.subplots(figsize=(10, 6))\n",
    "\n",
    "# Plot Temperature on the left y-axis\n",
    "ax1.plot(data.index, data['Temperature'], 'r-', label='Temperature')\n",
    "ax1.set_ylabel('Temperature (°C)', color='red')\n",
    "ax1.tick_params(axis='y', labelcolor='red')\n",
    "\n",
    "# Create a second y-axis for Humidity\n",
    "ax2 = ax1.twinx()\n",
    "ax2.plot(data.index, data['Humidity'], 'b--', label='Humidity')\n",
    "ax2.set_ylabel('Humidity (%)', color='blue')\n",
    "ax2.tick_params(axis='y', labelcolor='blue')\n",
    "\n",
    "# b) Label the x-axis\n",
    "ax1.set_xlabel('Date')\n",
    "\n",
    "# c) Set the title of the plot\n",
    "plt.title('Temperature and Humidity Over Time')\n",
    "\n",
    "# Display the plot\n",
    "plt.show()\n"
   ]
  },
  {
   "cell_type": "markdown",
   "id": "9c963ca3-166f-47b5-bd55-545c692fad50",
   "metadata": {},
   "source": [
    "15.Create a NumPy array data containing 1000 samples from a normal distribution. Perform the following\r\n",
    "tasks using Matplotlib:\n",
    "\n",
    "a) Plot a histogram of the data with 30 bins.\r\n",
    "\r\n",
    "b) Overlay a line plot representing the normal distribution's probability density function (PDF).\r\n",
    "\r\n",
    "c) Label the x-axis as 'Value' and the y-axis as 'Frequency/Probability'.\r\n",
    "\r\n",
    "d) Set the title of the plot as 'Histogram with PDF Overlay'."
   ]
  },
  {
   "cell_type": "code",
   "execution_count": null,
   "id": "43abbc0c-7478-4996-8c83-0cabc3573f80",
   "metadata": {},
   "outputs": [],
   "source": [
    "import numpy as np\n",
    "import matplotlib.pyplot as plt\n",
    "from scipy.stats import norm\n",
    "\n",
    "# a) Create a NumPy array containing 1000 samples from a normal distribution\n",
    "data = np.random.normal(loc=0, scale=1, size=1000)  # Mean=0, StdDev=1\n",
    "\n",
    "# a) Plot a histogram of the data with 30 bins\n",
    "plt.hist(data, bins=30, density=True, alpha=0.6, color='skyblue', label='Histogram')\n",
    "\n",
    "# b) Overlay a line plot representing the normal distribution's PDF\n",
    "xmin, xmax = plt.xlim()  # Get the range of x-axis\n",
    "x = np.linspace(xmin, xmax, 1000)  # Generate x values for the PDF\n",
    "pdf = norm.pdf(x, loc=0, scale=1)  # Compute the PDF values for the normal distribution\n",
    "plt.plot(x, pdf, 'r-', label='PDF', linewidth=2)\n",
    "\n",
    "# c) Label the x-axis and y-axis\n",
    "plt.xlabel('Value')\n",
    "plt.ylabel('Frequency/Probability')\n",
    "\n",
    "# d) Set the title of the plot\n",
    "plt.title('Histogram with PDF Overlay')\n",
    "\n",
    "# Add a legend\n",
    "plt.legend()\n",
    "\n",
    "# Show the plot\n",
    "plt.show()\n"
   ]
  },
  {
   "cell_type": "markdown",
   "id": "c6837eb5-c6ce-44ce-9cfe-f7f8e2e7341a",
   "metadata": {},
   "source": [
    "16.Set the title of the plot as 'Histogram with PDF Overlay'."
   ]
  },
  {
   "cell_type": "code",
   "execution_count": null,
   "id": "e9cdbe1f-e202-4b79-a50e-a0dffd2e54e3",
   "metadata": {},
   "outputs": [],
   "source": [
    "import numpy as np\n",
    "import matplotlib.pyplot as plt\n",
    "from scipy.stats import norm\n",
    "\n",
    "# a) Create a NumPy array containing 1000 samples from a normal distribution\n",
    "data = np.random.normal(loc=0, scale=1, size=1000)  # Mean=0, StdDev=1\n",
    "\n",
    "# a) Plot a histogram of the data with 30 bins\n",
    "plt.hist(data, bins=30, density=True, alpha=0.6, color='skyblue', label='Histogram')\n",
    "\n",
    "# b) Overlay a line plot representing the normal distribution's PDF\n",
    "xmin, xmax = plt.xlim()  # Get the range of x-axis\n",
    "x = np.linspace(xmin, xmax, 1000)  # Generate x values for the PDF\n",
    "pdf = norm.pdf(x, loc=0, scale=1)  # Compute the PDF values for the normal distribution\n",
    "plt.plot(x, pdf, 'r-', label='PDF', linewidth=2)\n",
    "\n",
    "# c) Label the x-axis and y-axis\n",
    "plt.xlabel('Value')\n",
    "plt.ylabel('Frequency/Probability')\n",
    "\n",
    "# d) Set the title of the plot\n",
    "plt.title('Histogram with PDF Overlay')\n",
    "\n"
   ]
  },
  {
   "cell_type": "markdown",
   "id": "32f3802b-255c-42d1-85cc-0c85411ed42e",
   "metadata": {},
   "source": [
    "17.Create a Seaborn scatter plot of two random arrays, color points based on their position relative to the \n",
    "origin (quadrants), add a legend, label the axes, and set the title as 'Quadrant-wise Scatter Plot'."
   ]
  },
  {
   "cell_type": "code",
   "execution_count": null,
   "id": "71ceac41-321a-4c74-b418-a0aa0611b0cf",
   "metadata": {},
   "outputs": [],
   "source": [
    "import numpy as np\n",
    "import pandas as pd\n",
    "import seaborn as sns\n",
    "import matplotlib.pyplot as plt\n",
    "\n",
    "# Generate two random arrays\n",
    "x = np.random.uniform(-10, 10, size=100)  # Random values between -10 and 10\n",
    "y = np.random.uniform(-10, 10, size=100)\n",
    "\n",
    "# Determine the quadrant of each point\n",
    "def determine_quadrant(x, y):\n",
    "    if x > 0 and y > 0:\n",
    "        return 'Quadrant I'\n",
    "    elif x < 0 and y > 0:\n",
    "        return 'Quadrant II'\n",
    "    elif x < 0 and y < 0:\n",
    "        return 'Quadrant III'\n",
    "    elif x > 0 and y < 0:\n",
    "        return 'Quadrant IV'\n",
    "\n",
    "quadrants = [determine_quadrant(xi, yi) for xi, yi in zip(x, y)]\n",
    "\n",
    "# Create a DataFrame for Seaborn\n",
    "data = pd.DataFrame({'x': x, 'y': y, 'Quadrant': quadrants})\n",
    "\n",
    "# Create the scatter plot\n",
    "plt.figure(figsize=(10, 6))\n",
    "sns.scatterplot(data=data, x='x', y='y', hue='Quadrant', palette='Set2', s=100)\n",
    "\n",
    "# Add a legend\n",
    "plt.legend(title='Quadrant')\n",
    "\n",
    "# Label the axes and set the title\n",
    "plt.xlabel('X-axis')\n",
    "plt.ylabel('Y-axis')\n",
    "plt.title('Quadrant-wise Scatter Plot')\n",
    "\n",
    "# Display the plot\n",
    "plt.show()\n"
   ]
  },
  {
   "cell_type": "markdown",
   "id": "514d6032-32c6-4d70-9751-609b82e1b16f",
   "metadata": {},
   "source": [
    "18.With Bokeh, plot a line chart of a sine wave function, add grid lines, label the axes, and set the title as 'Sine \n",
    "Wave Function'8"
   ]
  },
  {
   "cell_type": "code",
   "execution_count": null,
   "id": "80053e80-b7f2-4906-91ca-175d402b7a0f",
   "metadata": {},
   "outputs": [],
   "source": [
    "from bokeh.plotting import figure, show\n",
    "import numpy as np\n",
    "\n",
    "# Generate data for the sine wave\n",
    "x = np.linspace(0, 2 * np.pi, 500)  # 500 points between 0 and 2π\n",
    "y = np.sin(x)  # Sine wave values\n",
    "\n",
    "# Create a Bokeh figure\n",
    "p = figure(title=\"Sine Wave Function\", \n",
    "           x_axis_label='X-axis', \n",
    "           y_axis_label='Y-axis', \n",
    "           width=800, \n",
    "           height=400)\n",
    "\n",
    "# Plot the sine wave\n",
    "p.line(x, y, line_width=4, color=\"blue\", legend_label=\"Sine Wave\")\n",
    "\n",
    "# Customize grid lines\n",
    "p.xgrid.grid_line_color = \"gray\"\n",
    "p.ygrid.grid_line_color = \"gray\"\n",
    "p.xgrid.grid_line_dash = \"dashed\"\n",
    "p.ygrid.grid_line_dash = \"dashed\"\n",
    "\n",
    "# Add a legend\n",
    "p.legend.title = \"Legend\"\n",
    "p.legend.label_text_font_size = \"10pt\"\n",
    "p.legend.location = \"top_left\"\n",
    "\n",
    "# Show the plot\n",
    "show(p)\n"
   ]
  },
  {
   "cell_type": "markdown",
   "id": "73f30056-b598-4b7a-997a-315851951318",
   "metadata": {},
   "source": [
    "19.Using Bokeh, generate a bar chart of randomly generated categorical data, color bars based on their values, add hover tooltips to display exact values, label the axes, and set the title as 'Random Categorical Bar\n",
    "Chart'8"
   ]
  },
  {
   "cell_type": "code",
   "execution_count": null,
   "id": "d3651fbb-c8f3-465a-9d71-23d053d8133d",
   "metadata": {},
   "outputs": [],
   "source": [
    "from bokeh.plotting import figure, show\n",
    "from bokeh.models import ColumnDataSource, HoverTool\n",
    "import numpy as np\n",
    "import random\n",
    "\n",
    "# Generate random categorical data and corresponding values\n",
    "categories = [f\"Category {i}\" for i in range(1, 11)]  # 10 categories\n",
    "values = np.random.randint(10, 100, size=10)  # Random values between 10 and 100\n",
    "\n",
    "# Map colors to values based on magnitude\n",
    "colors = [\"#FF5733\" if value > 75 else \"#33C3FF\" if value > 50 else \"#33FF57\" for value in values]\n",
    "\n",
    "# Create a ColumnDataSource\n",
    "source = ColumnDataSource(data=dict(categories=categories, values=values, colors=colors))\n",
    "\n",
    "# Create a Bokeh figure\n",
    "p = figure(\n",
    "    x_range=categories, \n",
    "    title=\"Random Categorical Bar Chart\",\n",
    "    x_axis_label=\"Categories\",\n",
    "    y_axis_label=\"Values\",\n",
    "    width=800, \n",
    "    height=400,\n",
    "    tools=\"pan,box_zoom,reset\"\n",
    ")\n",
    "\n",
    "# Add bar glyphs\n",
    "p.vbar(\n",
    "    x=\"categories\", \n",
    "    top=\"values\", \n",
    "    width=0.8, \n",
    "    color=\"colors\", \n",
    "    source=source,\n",
    "    legend_field=\"categories\"\n",
    ")\n",
    "\n",
    "# Add hover tooltips\n",
    "hover = HoverTool(tooltips=[(\"Category\", \"@categories\"), (\"Value\", \"@values\")])\n",
    "p.add_tools(hover)\n",
    "\n",
    "# Customize the appearance\n",
    "p.xgrid.grid_line_color = None\n",
    "p.y_range.start = 0\n",
    "p.legend.visible = False\n",
    "\n",
    "# Show the plot\n",
    "show(p)\n"
   ]
  },
  {
   "cell_type": "markdown",
   "id": "7aee7e9b-18c5-454f-af53-2a3123c5c2a2",
   "metadata": {},
   "source": [
    "20.Using Plotly, create a basic line plot of a randomly generated dataset, label the axes, and set the title as  'Simple Line Plot'8"
   ]
  },
  {
   "cell_type": "code",
   "execution_count": null,
   "id": "2237a86e-495e-45fa-8036-9afe6ecdbcd2",
   "metadata": {},
   "outputs": [],
   "source": [
    "import numpy as np\n",
    "import plotly.graph_objects as go\n",
    "\n",
    "# Generate random data\n",
    "x = np.linspace(0, 10, 100)  # 100 points between 0 and 10\n",
    "y = np.random.uniform(0, 10, 100)  # Random values between 0 and 10\n",
    "\n",
    "# Create the line plot\n",
    "fig = go.Figure()\n",
    "\n",
    "fig.add_trace(go.Scatter(\n",
    "    x=x, \n",
    "    y=y, \n",
    "    mode='lines', \n",
    "    name='Random Data',\n",
    "    line=dict(color='blue')\n",
    "))\n",
    "\n",
    "# Set title and axis labels\n",
    "fig.update_layout(\n",
    "    title='Simple Line Plot',\n",
    "    xaxis_title='X-axis',\n",
    "    yaxis_title='Y-axis'\n",
    ")\n",
    "\n",
    "# Show the plot\n",
    "fig.show()\n"
   ]
  },
  {
   "cell_type": "markdown",
   "id": "a148e9c1-f581-46d4-a221-92156fc5c3a7",
   "metadata": {},
   "source": [
    "21.Using Plotly, create an interactive pie chart of randomly generated data, add labels and percentages, set  the title as 'Interactive Pie Chart'."
   ]
  },
  {
   "cell_type": "code",
   "execution_count": null,
   "id": "dcece5ad-8096-402b-ba38-1aa9a94a7da4",
   "metadata": {},
   "outputs": [],
   "source": [
    "import numpy as np\n",
    "import plotly.graph_objects as go\n",
    "\n",
    "# Generate random data\n",
    "labels = ['Category A', 'Category B', 'Category C', 'Category D', 'Category E']\n",
    "values = np.random.randint(10, 100, size=len(labels))  # Random values for the categories\n",
    "\n",
    "# Create the pie chart\n",
    "fig = go.Figure(data=[go.Pie(\n",
    "    labels=labels, \n",
    "    values=values, \n",
    "    hoverinfo='label+percent',  # Show labels and percentages on hover\n",
    "    textinfo='percent+label',  # Show percentages and labels inside the pie\n",
    "    marker=dict(colors=['#FF5733', '#33C3FF', '#33FF57', '#FFC300', '#DAF7A6'])  # Optional custom colors\n",
    ")])\n",
    "\n",
    "# Set the title\n",
    "fig.update_layout(\n",
    "    title='Interactive Pie Chart'\n",
    ")\n",
    "\n",
    "# Show the plot\n",
    "fig.show()\n"
   ]
  },
  {
   "cell_type": "code",
   "execution_count": null,
   "id": "7c782c30-9e80-4b27-a919-35de5f6b3af8",
   "metadata": {},
   "outputs": [],
   "source": []
  }
 ],
 "metadata": {
  "kernelspec": {
   "display_name": "Python 3 (ipykernel)",
   "language": "python",
   "name": "python3"
  },
  "language_info": {
   "codemirror_mode": {
    "name": "ipython",
    "version": 3
   },
   "file_extension": ".py",
   "mimetype": "text/x-python",
   "name": "python",
   "nbconvert_exporter": "python",
   "pygments_lexer": "ipython3",
   "version": "3.11.7"
  }
 },
 "nbformat": 4,
 "nbformat_minor": 5
}
